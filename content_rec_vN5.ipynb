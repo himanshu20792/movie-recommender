{
 "cells": [
  {
   "cell_type": "code",
   "execution_count": null,
   "metadata": {
    "colab": {
     "base_uri": "https://localhost:8080/",
     "height": 34
    },
    "id": "M01lUNomaPJn",
    "outputId": "81bdee66-5748-46d7-9948-4c355b83427f"
   },
   "outputs": [
    {
     "name": "stdout",
     "output_type": "stream",
     "text": [
      "Mounted at /content/drive\n"
     ]
    }
   ],
   "source": [
    "from google.colab import drive\n",
    "drive.mount('/content/drive', force_remount=True)"
   ]
  },
  {
   "cell_type": "markdown",
   "metadata": {
    "id": "5CE5PEdbFxMK"
   },
   "source": [
    "#Importing libraries and data"
   ]
  },
  {
   "cell_type": "code",
   "execution_count": null,
   "metadata": {
    "id": "pAvaOpZqbiSd"
   },
   "outputs": [],
   "source": [
    "import math\n",
    "import matplotlib.pyplot as plt\n",
    "import numpy as np\n",
    "import pandas as pd\n",
    "from pylab import rcParams\n",
    "from sklearn.feature_extraction.text import TfidfVectorizer\n",
    "from sklearn.metrics.pairwise import cosine_similarity"
   ]
  },
  {
   "cell_type": "code",
   "execution_count": null,
   "metadata": {
    "id": "bFdztqiJbzlG"
   },
   "outputs": [],
   "source": [
    "# Load movies\n",
    "movies = pd.read_csv(\"/content/drive/My Drive/MovieRecommender/filtered.csv\", header=0, sep=';')\n",
    "movies = movies.replace({np.nan: None}) "
   ]
  },
  {
   "cell_type": "code",
   "execution_count": null,
   "metadata": {
    "id": "xKqSoAMqzgxu"
   },
   "outputs": [],
   "source": [
    "''' With previously used data given by MadewithML\n",
    "\n",
    "# Load movies\n",
    "movies = pd.read_csv(\"/content/drive/My Drive/MovieRecommender/filtered.csv\", header=0, parse_dates=['date'])\n",
    "movies = movies.replace({np.nan: None}) # replace NaN with None \n",
    "\n",
    "'''"
   ]
  },
  {
   "cell_type": "markdown",
   "metadata": {
    "id": "NdP3kKeG6mkj"
   },
   "source": [
    "# User defined functions"
   ]
  },
  {
   "cell_type": "code",
   "execution_count": null,
   "metadata": {
    "id": "XKkAXHSG6wnb"
   },
   "outputs": [],
   "source": [
    "def display_all(df):\n",
    "    with pd.option_context(\"display.max_rows\", 1000, \"display.max_columns\", 1000): \n",
    "        display(df)"
   ]
  },
  {
   "cell_type": "markdown",
   "metadata": {
    "id": "-BUbGXql6WII"
   },
   "source": [
    "# EDA"
   ]
  },
  {
   "cell_type": "code",
   "execution_count": null,
   "metadata": {
    "id": "PQP2D5jfBmUR"
   },
   "outputs": [],
   "source": [
    "movies.head()"
   ]
  },
  {
   "cell_type": "code",
   "execution_count": null,
   "metadata": {
    "colab": {
     "base_uri": "https://localhost:8080/",
     "height": 52
    },
    "id": "Y9hbwoy_GS5x",
    "outputId": "0683e3f8-e443-48e5-f223-d1a9c280572a"
   },
   "outputs": [
    {
     "data": {
      "application/vnd.google.colaboratory.intrinsic+json": {
       "type": "string"
      },
      "text/plain": [
       "'\\n# Function to display all rows and columns\\ndef display_all(df):\\n    with pd.option_context(\"display.max_rows\", 1000, \"display.max_columns\", 1000): \\n        display(df)\\n'"
      ]
     },
     "execution_count": 6,
     "metadata": {
      "tags": []
     },
     "output_type": "execute_result"
    }
   ],
   "source": [
    "'''\n",
    "# Function to display all rows and columns\n",
    "def display_all(df):\n",
    "    with pd.option_context(\"display.max_rows\", 1000, \"display.max_columns\", 1000): \n",
    "        display(df)\n",
    "'''"
   ]
  },
  {
   "cell_type": "code",
   "execution_count": null,
   "metadata": {
    "id": "5KMTrIN1GVoe"
   },
   "outputs": [],
   "source": [
    "display_all(movies.tail().T)"
   ]
  },
  {
   "cell_type": "markdown",
   "metadata": {
    "id": "2oNqETQB7Fk6"
   },
   "source": [
    "Observations:\n",
    "- Empty values in cell. Specifically,\n",
    "    - Some movies do not have taglines, keywords, date collection, revenue, budget, production companies.\n",
    "- Values in genre, keywords columns are stored as one string, needs to be split and stored as lists. (#Data cleaning1)"
   ]
  },
  {
   "cell_type": "code",
   "execution_count": null,
   "metadata": {
    "id": "TbOnv5VFGzAH"
   },
   "outputs": [],
   "source": [
    "display_all(movies.describe(include='all').T)"
   ]
  },
  {
   "cell_type": "code",
   "execution_count": null,
   "metadata": {
    "colab": {
     "base_uri": "https://localhost:8080/",
     "height": 391
    },
    "id": "aZRQsroNB7MF",
    "outputId": "75bf6f32-3652-4c08-891a-d353eb5be6e0"
   },
   "outputs": [
    {
     "data": {
      "text/plain": [
       "id                       int64\n",
       "title                   object\n",
       "tagline                 object\n",
       "description             object\n",
       "genres                  object\n",
       "keywords                object\n",
       "date                    object\n",
       "collection              object\n",
       "runtime                 object\n",
       "revenue                 object\n",
       "budget                   int64\n",
       "director                object\n",
       "cast                    object\n",
       "production_companies    object\n",
       "production_countries    object\n",
       "popularity              object\n",
       "average_vote            object\n",
       "num_votes               object\n",
       "language                object\n",
       "imdb_id                 object\n",
       "poster_url              object\n",
       "dtype: object"
      ]
     },
     "execution_count": 22,
     "metadata": {
      "tags": []
     },
     "output_type": "execute_result"
    }
   ],
   "source": [
    "movies.dtypes"
   ]
  },
  {
   "cell_type": "markdown",
   "metadata": {
    "id": "K8-b7yUOAkFK"
   },
   "source": [
    "#User profile"
   ]
  },
  {
   "cell_type": "code",
   "execution_count": null,
   "metadata": {
    "colab": {
     "base_uri": "https://localhost:8080/",
     "height": 34
    },
    "id": "hLVESQVXHPf_",
    "outputId": "33d5ea49-2a40-4169-c88c-cdb4453ab4f8"
   },
   "outputs": [
    {
     "data": {
      "text/plain": [
       "(45416, 21)"
      ]
     },
     "execution_count": 20,
     "metadata": {
      "tags": []
     },
     "output_type": "execute_result"
    }
   ],
   "source": [
    "movies.shape"
   ]
  },
  {
   "cell_type": "code",
   "execution_count": null,
   "metadata": {
    "id": "ov2WqgRR3Cah"
   },
   "outputs": [],
   "source": [
    "movies_subset = movies.dropna(subset=['keywords'])\n",
    "movies_subset = movies_subset.reset_index(drop=True)"
   ]
  },
  {
   "cell_type": "code",
   "execution_count": null,
   "metadata": {
    "id": "H2xuSveXFiXp"
   },
   "outputs": [],
   "source": [
    "movies_subset.head(10)"
   ]
  },
  {
   "cell_type": "code",
   "execution_count": null,
   "metadata": {
    "colab": {
     "base_uri": "https://localhost:8080/",
     "height": 51
    },
    "id": "PK2ORI1rKAM1",
    "outputId": "a13c0caf-73d4-4991-e6ba-3a2cd780bc2b"
   },
   "outputs": [
    {
     "name": "stdout",
     "output_type": "stream",
     "text": [
      "(45416, 21)\n",
      "(31088, 21)\n"
     ]
    }
   ],
   "source": [
    "print(movies.shape)\n",
    "print(movies_subset.shape)"
   ]
  },
  {
   "cell_type": "code",
   "execution_count": null,
   "metadata": {
    "id": "Sn5hIaqXKlho"
   },
   "outputs": [],
   "source": [
    "tfidf_vectorizer = TfidfVectorizer(stop_words='english')\n",
    "tfidf_matrix = tfidf_vectorizer.fit_transform(movies_subset.keywords)"
   ]
  },
  {
   "cell_type": "code",
   "execution_count": null,
   "metadata": {
    "id": "5hVpFC06KvkO"
   },
   "outputs": [],
   "source": [
    "tfidf_np_matrix = tfidf_matrix.toarray()"
   ]
  },
  {
   "cell_type": "code",
   "execution_count": null,
   "metadata": {
    "colab": {
     "base_uri": "https://localhost:8080/",
     "height": 34
    },
    "id": "0xBe3DhXzOXI",
    "outputId": "50b9817b-ea1d-4793-c29f-0de88bae7d2c"
   },
   "outputs": [
    {
     "data": {
      "text/plain": [
       "(31088, 12595)"
      ]
     },
     "execution_count": 25,
     "metadata": {
      "tags": []
     },
     "output_type": "execute_result"
    }
   ],
   "source": [
    "tfidf_np_matrix.shape"
   ]
  },
  {
   "cell_type": "code",
   "execution_count": null,
   "metadata": {
    "colab": {
     "base_uri": "https://localhost:8080/",
     "height": 34
    },
    "id": "-W8M4ydWzSbU",
    "outputId": "61ae19ee-1c87-4988-9ec2-70cf44e42d6e"
   },
   "outputs": [
    {
     "data": {
      "text/plain": [
       "array([0., 0., 0., ..., 0., 0., 0.])"
      ]
     },
     "execution_count": 26,
     "metadata": {
      "tags": []
     },
     "output_type": "execute_result"
    }
   ],
   "source": [
    "tfidf_np_matrix[0]"
   ]
  },
  {
   "cell_type": "code",
   "execution_count": null,
   "metadata": {
    "colab": {
     "base_uri": "https://localhost:8080/",
     "height": 119
    },
    "id": "pLgOAN-fgRDy",
    "outputId": "770fbbfe-9af9-47f6-95b5-1b2e86e3240a"
   },
   "outputs": [
    {
     "data": {
      "text/plain": [
       "0            LEGO DC Super Hero Girls: Brain Drain\n",
       "1                        The Truth Is in the Stars\n",
       "2                                         Firebase\n",
       "3                        Chris D'Elia: Man on Fire\n",
       "4    Rory Scovel Tries Stand-Up for the First Time\n",
       "Name: title, dtype: object"
      ]
     },
     "execution_count": 27,
     "metadata": {
      "tags": []
     },
     "output_type": "execute_result"
    }
   ],
   "source": [
    "indices = pd.Series(movies_subset.title)\n",
    "indices[:5]"
   ]
  },
  {
   "cell_type": "code",
   "execution_count": null,
   "metadata": {
    "id": "3Jui94_ReM8H"
   },
   "outputs": [],
   "source": [
    "def recommendations(titles, tfidf_np_matrix=tfidf_np_matrix):\n",
    "  \n",
    "  idx = []\n",
    "  recommended_movies=[]\n",
    "\n",
    "  for title in titles:\n",
    "    idx.append(indices[indices==title].index[0])\n",
    "  print(idx)\n",
    "  user_pref_vector = tfidf_np_matrix[idx].mean(axis=0)\n",
    "  print(user_pref_vector )\n",
    "  cosine_sim = cosine_similarity(tfidf_matrix,np.atleast_2d(user_pref_vector))\n",
    "  df_cosine_sim = pd.DataFrame(cosine_sim,columns=['sim_score'])\n",
    "  df_cosine_sim = df_cosine_sim.sort_values(by='sim_score',ascending=False)\n",
    "  print(df_cosine_sim.head(20))\n",
    "  top_10_indexes = list(df_cosine_sim.iloc[0:(10+len(titles))].index)\n",
    "  print(top_10_indexes)\n",
    "  for n,i in enumerate(top_10_indexes):\n",
    "    if n<len(titles):\n",
    "      continue;\n",
    "    recommended_movies.append([movies_subset.title.iloc[i],movies_subset.genres.iloc[i],movies_subset.keywords.iloc[i],movies_subset.popularity.iloc[i],movies_subset.average_vote.iloc[i],movies_subset.num_votes.iloc[i],df_cosine_sim.sim_score.iloc[n]])\n",
    "\n",
    "  return pd.DataFrame(recommended_movies,columns=['movie_title','genres','keywords','popularity','average_vote','num_votes','cosine_score'])"
   ]
  },
  {
   "cell_type": "code",
   "execution_count": null,
   "metadata": {
    "colab": {
     "base_uri": "https://localhost:8080/",
     "height": 852
    },
    "id": "F_Vqi713zDVY",
    "outputId": "670d5b65-e32d-4aad-a67c-6d00630968e5"
   },
   "outputs": [
    {
     "name": "stdout",
     "output_type": "stream",
     "text": [
      "[18031, 11244, 7704, 18387]\n",
      "[0. 0. 0. ... 0. 0. 0.]\n",
      "       sim_score\n",
      "11244   0.652236\n",
      "7704    0.652236\n",
      "18031   0.452569\n",
      "18387   0.452569\n",
      "12964   0.378137\n",
      "20256   0.359609\n",
      "17518   0.347478\n",
      "19399   0.328999\n",
      "320     0.327274\n",
      "900     0.308285\n",
      "1237    0.307096\n",
      "9886    0.303715\n",
      "7179    0.302242\n",
      "163     0.298729\n",
      "1236    0.298729\n",
      "6796    0.293774\n",
      "1457    0.291654\n",
      "7580    0.285195\n",
      "2285    0.280284\n",
      "1724    0.279583\n",
      "[11244, 7704, 18031, 18387, 12964, 20256, 17518, 19399, 320, 900, 1237, 9886, 7179, 163]\n"
     ]
    },
    {
     "data": {
      "text/html": [
       "<div>\n",
       "<style scoped>\n",
       "    .dataframe tbody tr th:only-of-type {\n",
       "        vertical-align: middle;\n",
       "    }\n",
       "\n",
       "    .dataframe tbody tr th {\n",
       "        vertical-align: top;\n",
       "    }\n",
       "\n",
       "    .dataframe thead th {\n",
       "        text-align: right;\n",
       "    }\n",
       "</style>\n",
       "<table border=\"1\" class=\"dataframe\">\n",
       "  <thead>\n",
       "    <tr style=\"text-align: right;\">\n",
       "      <th></th>\n",
       "      <th>movie_title</th>\n",
       "      <th>genres</th>\n",
       "      <th>keywords</th>\n",
       "      <th>popularity</th>\n",
       "      <th>average_vote</th>\n",
       "      <th>num_votes</th>\n",
       "      <th>cosine_score</th>\n",
       "    </tr>\n",
       "  </thead>\n",
       "  <tbody>\n",
       "    <tr>\n",
       "      <th>0</th>\n",
       "      <td>Batman Begins</td>\n",
       "      <td>action, crime, drama</td>\n",
       "      <td>himalaya, martial arts, dc comics, crime fight...</td>\n",
       "      <td>28.505341</td>\n",
       "      <td>7.5</td>\n",
       "      <td>7511.0</td>\n",
       "      <td>0.378137</td>\n",
       "    </tr>\n",
       "    <tr>\n",
       "      <th>1</th>\n",
       "      <td>Batman</td>\n",
       "      <td>fantasy, action</td>\n",
       "      <td>double life, dc comics, dual identity, chemica...</td>\n",
       "      <td>19.106730</td>\n",
       "      <td>7.0</td>\n",
       "      <td>2145.0</td>\n",
       "      <td>0.359609</td>\n",
       "    </tr>\n",
       "    <tr>\n",
       "      <th>2</th>\n",
       "      <td>Batman &amp; Robin</td>\n",
       "      <td>action, crime, fantasy</td>\n",
       "      <td>double life, dc comics, dual identity, crime f...</td>\n",
       "      <td>17.038824</td>\n",
       "      <td>4.2</td>\n",
       "      <td>1447.0</td>\n",
       "      <td>0.347478</td>\n",
       "    </tr>\n",
       "    <tr>\n",
       "      <th>3</th>\n",
       "      <td>Batman Returns</td>\n",
       "      <td>action, fantasy</td>\n",
       "      <td>holiday, corruption, double life, dc comics, c...</td>\n",
       "      <td>15.001681</td>\n",
       "      <td>6.6</td>\n",
       "      <td>1706.0</td>\n",
       "      <td>0.328999</td>\n",
       "    </tr>\n",
       "    <tr>\n",
       "      <th>4</th>\n",
       "      <td>LEGO DC Comics Super Heroes: Justice League - ...</td>\n",
       "      <td>adventure, animation, action</td>\n",
       "      <td>dc comics, gotham city, joker, super powers, lego</td>\n",
       "      <td>3.581416</td>\n",
       "      <td>7.0</td>\n",
       "      <td>22.0</td>\n",
       "      <td>0.327274</td>\n",
       "    </tr>\n",
       "    <tr>\n",
       "      <th>5</th>\n",
       "      <td>Batman Unlimited: Monster Mayhem</td>\n",
       "      <td>action, animation, family</td>\n",
       "      <td>dc comics, joker, superhero, super powers</td>\n",
       "      <td>2.772324</td>\n",
       "      <td>6.0</td>\n",
       "      <td>40.0</td>\n",
       "      <td>0.308285</td>\n",
       "    </tr>\n",
       "    <tr>\n",
       "      <th>6</th>\n",
       "      <td>Batman vs. Robin</td>\n",
       "      <td>action, adventure, animation</td>\n",
       "      <td>dc comics, gotham city, based on comic, robin,...</td>\n",
       "      <td>5.489420</td>\n",
       "      <td>6.8</td>\n",
       "      <td>218.0</td>\n",
       "      <td>0.307096</td>\n",
       "    </tr>\n",
       "    <tr>\n",
       "      <th>7</th>\n",
       "      <td>Justice League: The New Frontier</td>\n",
       "      <td>action, adventure, animation, science fiction</td>\n",
       "      <td>dc comics, superhero, based on comic, super po...</td>\n",
       "      <td>7.031719</td>\n",
       "      <td>6.6</td>\n",
       "      <td>115.0</td>\n",
       "      <td>0.303715</td>\n",
       "    </tr>\n",
       "    <tr>\n",
       "      <th>8</th>\n",
       "      <td>Barbie and the Three Musketeers</td>\n",
       "      <td>animation, family</td>\n",
       "      <td>based on toy</td>\n",
       "      <td>6.670165</td>\n",
       "      <td>6.2</td>\n",
       "      <td>81.0</td>\n",
       "      <td>0.302242</td>\n",
       "    </tr>\n",
       "    <tr>\n",
       "      <th>9</th>\n",
       "      <td>Batman: Return of the Caped Crusaders</td>\n",
       "      <td>action, animation, comedy</td>\n",
       "      <td>dc comics, superhero, super powers</td>\n",
       "      <td>3.495883</td>\n",
       "      <td>7.2</td>\n",
       "      <td>37.0</td>\n",
       "      <td>0.298729</td>\n",
       "    </tr>\n",
       "  </tbody>\n",
       "</table>\n",
       "</div>"
      ],
      "text/plain": [
       "                                         movie_title  ... cosine_score\n",
       "0                                      Batman Begins  ...     0.378137\n",
       "1                                             Batman  ...     0.359609\n",
       "2                                     Batman & Robin  ...     0.347478\n",
       "3                                     Batman Returns  ...     0.328999\n",
       "4  LEGO DC Comics Super Heroes: Justice League - ...  ...     0.327274\n",
       "5                   Batman Unlimited: Monster Mayhem  ...     0.308285\n",
       "6                                   Batman vs. Robin  ...     0.307096\n",
       "7                   Justice League: The New Frontier  ...     0.303715\n",
       "8                    Barbie and the Three Musketeers  ...     0.302242\n",
       "9              Batman: Return of the Caped Crusaders  ...     0.298729\n",
       "\n",
       "[10 rows x 7 columns]"
      ]
     },
     "execution_count": 46,
     "metadata": {
      "tags": []
     },
     "output_type": "execute_result"
    }
   ],
   "source": [
    "recommendations(['Toy Story', 'The Dark Knight','The Dark Knight Rises','Ace Ventura: When Nature Calls'])"
   ]
  },
  {
   "cell_type": "code",
   "execution_count": null,
   "metadata": {
    "colab": {
     "base_uri": "https://localhost:8080/",
     "height": 335
    },
    "id": "HnprqUrazmMe",
    "outputId": "113bce13-1ce1-4719-8eb6-8aa8bacc15a8"
   },
   "outputs": [
    {
     "data": {
      "text/html": [
       "<div>\n",
       "<style scoped>\n",
       "    .dataframe tbody tr th:only-of-type {\n",
       "        vertical-align: middle;\n",
       "    }\n",
       "\n",
       "    .dataframe tbody tr th {\n",
       "        vertical-align: top;\n",
       "    }\n",
       "\n",
       "    .dataframe thead th {\n",
       "        text-align: right;\n",
       "    }\n",
       "</style>\n",
       "<table border=\"1\" class=\"dataframe\">\n",
       "  <thead>\n",
       "    <tr style=\"text-align: right;\">\n",
       "      <th></th>\n",
       "      <th>id</th>\n",
       "      <th>title</th>\n",
       "      <th>tagline</th>\n",
       "      <th>description</th>\n",
       "      <th>genres</th>\n",
       "      <th>keywords</th>\n",
       "      <th>date</th>\n",
       "      <th>collection</th>\n",
       "      <th>runtime</th>\n",
       "      <th>revenue</th>\n",
       "      <th>budget</th>\n",
       "      <th>director</th>\n",
       "      <th>cast</th>\n",
       "      <th>production_companies</th>\n",
       "      <th>production_countries</th>\n",
       "      <th>popularity</th>\n",
       "      <th>average_vote</th>\n",
       "      <th>num_votes</th>\n",
       "      <th>language</th>\n",
       "      <th>imdb_id</th>\n",
       "      <th>poster_url</th>\n",
       "    </tr>\n",
       "  </thead>\n",
       "  <tbody>\n",
       "    <tr>\n",
       "      <th>17</th>\n",
       "      <td>9273</td>\n",
       "      <td>Ace Ventura: When Nature Calls</td>\n",
       "      <td>New animals. New adventures. Same hair.</td>\n",
       "      <td>Summoned from an ashram in Tibet, Ace finds hi...</td>\n",
       "      <td>crime, comedy, adventure</td>\n",
       "      <td>africa, indigenous, human animal relationship,...</td>\n",
       "      <td>1995-11-10 00:00:00</td>\n",
       "      <td>Ace Ventura Collection</td>\n",
       "      <td>90</td>\n",
       "      <td>2.12386e+08</td>\n",
       "      <td>30000000</td>\n",
       "      <td>Steve Oedekerk</td>\n",
       "      <td>Jim Carrey, Ian McNeice, Simon Callow, Maynard...</td>\n",
       "      <td>O Entertainment, Warner Bros., Morgan Creek Pr...</td>\n",
       "      <td>United States of America</td>\n",
       "      <td>8.20545</td>\n",
       "      <td>6.1</td>\n",
       "      <td>1128</td>\n",
       "      <td>en</td>\n",
       "      <td>tt0112281</td>\n",
       "      <td>/wRlGnJhEzcxBjvWtvbjhDSU1cIY.jpg</td>\n",
       "    </tr>\n",
       "    <tr>\n",
       "      <th>297</th>\n",
       "      <td>3049</td>\n",
       "      <td>Ace Ventura: Pet Detective</td>\n",
       "      <td>He's the best there is! (Actually, he's the on...</td>\n",
       "      <td>He's Ace Ventura: Pet Detective. Jim Carrey is...</td>\n",
       "      <td>comedy, mystery</td>\n",
       "      <td>dolphin, mascot, private detective, pets</td>\n",
       "      <td>1994-02-04 00:00:00</td>\n",
       "      <td>Ace Ventura Collection</td>\n",
       "      <td>86</td>\n",
       "      <td>1.07217e+08</td>\n",
       "      <td>15000000</td>\n",
       "      <td>Tom Shadyac</td>\n",
       "      <td>Jim Carrey, Sean Young, Courteney Cox, Tone Lo...</td>\n",
       "      <td>Warner Bros., Morgan Creek Productions</td>\n",
       "      <td>United States of America</td>\n",
       "      <td>11.248</td>\n",
       "      <td>6.4</td>\n",
       "      <td>1684</td>\n",
       "      <td>en</td>\n",
       "      <td>tt0109040</td>\n",
       "      <td>/nZirljb8XYbKTWsRQTplDGhx39Q.jpg</td>\n",
       "    </tr>\n",
       "  </tbody>\n",
       "</table>\n",
       "</div>"
      ],
      "text/plain": [
       "       id  ...                        poster_url\n",
       "17   9273  ...  /wRlGnJhEzcxBjvWtvbjhDSU1cIY.jpg\n",
       "297  3049  ...  /nZirljb8XYbKTWsRQTplDGhx39Q.jpg\n",
       "\n",
       "[2 rows x 21 columns]"
      ]
     },
     "execution_count": 27,
     "metadata": {
      "tags": []
     },
     "output_type": "execute_result"
    }
   ],
   "source": [
    "movies_subset[movies_subset.title.str.contains('Ace Ventura',case=False)==True]"
   ]
  }
 ],
 "metadata": {
  "colab": {
   "collapsed_sections": [
    "5CE5PEdbFxMK",
    "NdP3kKeG6mkj",
    "-BUbGXql6WII"
   ],
   "name": "content_rec_vN5.ipynb",
   "provenance": []
  },
  "kernelspec": {
   "display_name": "Python 3",
   "language": "python",
   "name": "python3"
  },
  "language_info": {
   "codemirror_mode": {
    "name": "ipython",
    "version": 3
   },
   "file_extension": ".py",
   "mimetype": "text/x-python",
   "name": "python",
   "nbconvert_exporter": "python",
   "pygments_lexer": "ipython3",
   "version": "3.8.2"
  },
  "widgets": {
   "application/vnd.jupyter.widget-state+json": {
    "state": {},
    "version_major": 2,
    "version_minor": 0
   }
  }
 },
 "nbformat": 4,
 "nbformat_minor": 4
}
