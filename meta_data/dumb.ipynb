{
 "cells": [
  {
   "cell_type": "code",
   "execution_count": null,
   "metadata": {},
   "outputs": [],
   "source": [
    "# def delete_columns_mega(counts):                   \n",
    "#     '''\n",
    "#     This module calls the sub module and controls the deletion of unwanted columns\n",
    "#     input : \n",
    "#     counts # dataframe of column of counted words\n",
    "#     output :\n",
    "#     counts # dataframe without the unwanted characters    \n",
    "#     '''\n",
    "#     counts = find_delete_columns(counts, '\\d', 'any numeric')\n",
    "#     counts = find_delete_columns(counts, '[\\uac00-\\ud7a3]', 'Korean characters')\n",
    "#     counts = find_delete_columns(counts, '[\\u4e00-\\u9FFF]', 'Chinese characters')\n",
    "#     counts = find_delete_columns(counts, '[\\u0900-\\u097F]',' Indian characters')\n",
    "#     counts = find_delete_columns(counts, '[\\u0627-\\u064a]',' Arabic characters')\n",
    "#     counts = find_delete_columns(counts, '[\\u0400-\\u04FF]',' Russian characters')\n",
    "#     counts = find_delete_columns(counts, '[\\u0370-\\u03FF]',' Greek characters')\n",
    "#     counts = find_delete_columns(counts, '[\\u3040-\\u30FF]',' Japanese Katagana characters')\n",
    "#     counts = find_delete_columns(counts, '[\\u3040-\\u309F]',' Japanese Hiragana characters')\n",
    "#     counts = find_delete_columns(counts, '[\\u3040-\\u30FF]',' Japanese Katagana characters')\n",
    "# #     counts = find_delete_columns(counts, '(^has$)',' has')\n",
    "# #     counts = find_delete_columns(counts, '(^time$)',' time')\n",
    "# #     counts = find_delete_columns(counts, '(^never$)',' never')\n",
    "# #     counts = find_delete_columns(counts, '(^director$)',' director')\n",
    "# #     counts = find_delete_columns(counts, '(^john$)',' john')\n",
    "# #     counts = find_delete_columns(counts, '(^and$)',' and')\n",
    "# #     counts = find_delete_columns(counts, '(^will$)',' will')\n",
    "# #     counts = find_delete_columns(counts, '(^you$)',' you')\n",
    "# #     counts = find_delete_columns(counts, '(^they$)',' they')\n",
    "# #     counts = find_delete_columns(counts, '(^is$)',' is')\n",
    "# #     counts = find_delete_columns(counts, '(^film$)',' film')\n",
    "# #     counts = find_delete_columns(counts, '(^it$)',' it')\n",
    "# #     counts = find_delete_columns(counts, '(^one$)',' one')\n",
    "# #     counts = find_delete_columns(counts, '(^its-?$)',' it,its')\n",
    "# #     counts = find_delete_columns(counts, '(^of$)',' of')\n",
    "# #     counts = find_delete_columns(counts, '(^on$)',' on')\n",
    "# #     counts = find_delete_columns(counts, '(^for$)',' for')\n",
    "# #     counts = find_delete_columns(counts, '(^the$)',' the')\n",
    "# #     counts = find_delete_columns(counts, '(^to$)',' to')\n",
    "# #     counts = find_delete_columns(counts, '(^your-?$)',' you,your')\n",
    "# #     counts = find_delete_columns(counts, '(^new$)',' new')\n",
    "# #     counts = find_delete_columns(counts, '(^man$)',' man')\n",
    "# #     counts = find_delete_columns(counts, '(^woman$)',' woman')\n",
    "# #     counts = find_delete_columns(counts, '(^no$)',' no')\n",
    "# #     counts = find_delete_columns(counts, '(^his$)',' his')\n",
    "# #     counts = find_delete_columns(counts, '(^he$)',' he')\n",
    "# #     counts = find_delete_columns(counts, '(^hers$)',' hers')\n",
    "# #     counts = find_delete_columns(counts, '(^can$)',' can')\n",
    "# #     counts = find_delete_columns(counts, '(^all$)',' all')\n",
    "# #     counts = find_delete_columns(counts, '(^from$)',' from')\n",
    "# #     counts = find_delete_columns(counts, '(^are$)',' are')\n",
    "# #     counts = find_delete_columns(counts, '(^there$)',' there')\n",
    "# #     counts = find_delete_columns(counts, '(^an$)',' an')\n",
    "# #     counts = find_delete_columns(counts, '(^with$)',' with')\n",
    "# #     counts = find_delete_columns(counts, '(^in$)',' in')\n",
    "# #     counts = find_delete_columns(counts, '(^be$)',' be')\n",
    "# #     counts = find_delete_columns(counts, '(^what$)',' what')\n",
    "#     return (counts)\n"
   ]
  }
 ],
 "metadata": {
  "kernelspec": {
   "display_name": "ml_env",
   "language": "python",
   "name": "ml_env"
  },
  "language_info": {
   "codemirror_mode": {
    "name": "ipython",
    "version": 3
   },
   "file_extension": ".py",
   "mimetype": "text/x-python",
   "name": "python",
   "nbconvert_exporter": "python",
   "pygments_lexer": "ipython3",
   "version": "3.8.6"
  },
  "widgets": {
   "application/vnd.jupyter.widget-state+json": {
    "state": {},
    "version_major": 2,
    "version_minor": 0
   }
  }
 },
 "nbformat": 4,
 "nbformat_minor": 4
}
