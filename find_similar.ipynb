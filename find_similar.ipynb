{
  "nbformat": 4,
  "nbformat_minor": 0,
  "metadata": {
    "colab": {
      "name": "find_similar.ipynb",
      "provenance": [],
      "collapsed_sections": []
    },
    "kernelspec": {
      "name": "python3",
      "display_name": "Python 3"
    }
  },
  "cells": [
    {
      "cell_type": "code",
      "metadata": {
        "id": "UFytgMnVBjLN",
        "colab_type": "code",
        "colab": {}
      },
      "source": [
        "import math\n",
        "import matplotlib.pyplot as plt\n",
        "import numpy as np\n",
        "import pandas as pd\n",
        "from pylab import rcParams\n",
        "from sklearn.feature_extraction.text import TfidfVectorizer\n",
        "from sklearn.metrics.pairwise import cosine_similarity"
      ],
      "execution_count": null,
      "outputs": []
    },
    {
      "cell_type": "code",
      "metadata": {
        "id": "JAbsqRaIBnBY",
        "colab_type": "code",
        "colab": {}
      },
      "source": [
        "movies_subset = movies.dropna(subset=['keywords'])\n",
        "movies_subset = movies_subset.reset_index(drop=True)"
      ],
      "execution_count": null,
      "outputs": []
    },
    {
      "cell_type": "code",
      "metadata": {
        "id": "-mrl9k57B2LP",
        "colab_type": "code",
        "colab": {}
      },
      "source": [
        "tfidf_vectorizer = TfidfVectorizer(stop_words='english')\n",
        "tfidf_matrix = tfidf_vectorizer.fit_transform(movies_subset.keywords)"
      ],
      "execution_count": null,
      "outputs": []
    },
    {
      "cell_type": "code",
      "metadata": {
        "id": "MS_gZOtNB5-O",
        "colab_type": "code",
        "colab": {}
      },
      "source": [
        "# generating the cosine similarity matrix\n",
        "cosine_sim = cosine_similarity(tfidf_matrix,tfidf_matrix)"
      ],
      "execution_count": null,
      "outputs": []
    },
    {
      "cell_type": "code",
      "metadata": {
        "id": "BHVixm24B9zi",
        "colab_type": "code",
        "colab": {}
      },
      "source": [
        "indices = pd.Series(movies_subset.title)\n",
        "indices[:5]"
      ],
      "execution_count": null,
      "outputs": []
    },
    {
      "cell_type": "code",
      "metadata": {
        "id": "jZGDo4BfB-hy",
        "colab_type": "code",
        "colab": {}
      },
      "source": [
        "def recommendations(title, cosine_sim = cosine_sim):\n",
        "\n",
        "    '''\n",
        "    Definition: Takes in the title of a movie that the user enters and the similarity matrix and gives out movie recommendations.\n",
        "    Parameters: title: User provided movie name, cosine_sim: Computed similarity matrix\n",
        "    Output: Dataframe of movie recommendations.\n",
        "    '''\n",
        "    \n",
        "    recommended_movies = []\n",
        "    \n",
        "    # gettin the index of the movie that matches the title\n",
        "    idx = indices[indices == title].index[0]\n",
        "\n",
        "    # creating a Series with the similarity scores in descending order\n",
        "    score_series = pd.Series(cosine_sim[idx]).sort_values(ascending = False)\n",
        "\n",
        "    # getting the indexes of the 10 most similar movies\n",
        "    top_10_indexes = list(score_series.iloc[0:11].index)\n",
        "    \n",
        "    # populating the list with the titles of the best 10 matching movies\n",
        "    for i in top_10_indexes:\n",
        "        recommended_movies.append([movies_subset.title.iloc[i],movies_subset.genres.iloc[i],movies_subset.keywords.iloc[i],movies_subset.popularity.iloc[i],movies_subset.average_vote.iloc[i],movies_subset.num_votes.iloc[i],score_series[i]])\n",
        "        \n",
        "    return pd.DataFrame(recommended_movies,columns=['movie_title','genres','keywords','popularity','average_vote','num_votes','cosine_score'])"
      ],
      "execution_count": null,
      "outputs": []
    }
  ]
}