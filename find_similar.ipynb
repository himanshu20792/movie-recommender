{
 "cells": [
  {
   "cell_type": "markdown",
   "metadata": {},
   "source": [
    "# Import statements"
   ]
  },
  {
   "cell_type": "code",
   "execution_count": 1,
   "metadata": {
    "colab": {},
    "colab_type": "code",
    "id": "UFytgMnVBjLN"
   },
   "outputs": [],
   "source": [
    "import math\n",
    "import matplotlib.pyplot as plt\n",
    "import numpy as np\n",
    "import pandas as pd\n",
    "from pylab import rcParams\n",
    "from sklearn.feature_extraction.text import TfidfVectorizer\n",
    "from sklearn.metrics.pairwise import cosine_similarity\n",
    "%load_ext pycodestyle_magic\n",
    "%pycodestyle_on\n",
    "#%pycodestyle_off\n",
    "\n",
    "MAIN_FOLDER = 'c:/Users/champ/Python_proj/'\n",
    "MWML_FOLDER = 'made_with_ml_repo/temp/moviebuddy/meta_data/'\n",
    "FILE = \"filtered.csv\"\n",
    "def prep_db(file, file_type):\n",
    "    '''\n",
    "    This module reads and prepares the db : cleans,\n",
    "    deletes the columns with 'Unnamed' values,\n",
    "    fills NaN values\n",
    "    input :\n",
    "    file # the movieset file\n",
    "    file type # csv file type\n",
    "    output :\n",
    "    df # read movie set dataframe\n",
    "    '''\n",
    "    if file_type == 'csv':\n",
    "        df = pd.read_csv(file, sep=';', dtype=str)  # Read CSV File\n",
    "    df = df.loc[:, ~df.columns.str.contains('^Unnamed')]\n",
    "    df = df.fillna('')  # clean the data - get rid of NaN\n",
    "    df = df.astype(str)  # change the default data type to string\n",
    "    return(df)\n",
    "movies = prep_db(MAIN_FOLDER + MWML_FOLDER + FILE, 'csv')"
   ]
  },
  {
   "cell_type": "code",
   "execution_count": 2,
   "metadata": {
    "colab": {},
    "colab_type": "code",
    "id": "JAbsqRaIBnBY"
   },
   "outputs": [],
   "source": [
    "movies = prep_db(MAIN_FOLDER + MWML_FOLDER + FILE, 'csv')\n",
    "movies_subset = movies.dropna(subset=['keywords'])\n",
    "movies_subset = movies_subset.reset_index(drop=True)"
   ]
  },
  {
   "cell_type": "code",
   "execution_count": 3,
   "metadata": {
    "colab": {},
    "colab_type": "code",
    "id": "-mrl9k57B2LP"
   },
   "outputs": [],
   "source": [
    "tfidf_vectorizer = TfidfVectorizer(stop_words='english')\n",
    "tfidf_matrix = tfidf_vectorizer.fit_transform(movies_subset.keywords)"
   ]
  },
  {
   "cell_type": "code",
   "execution_count": 4,
   "metadata": {
    "colab": {},
    "colab_type": "code",
    "id": "MS_gZOtNB5-O"
   },
   "outputs": [
    {
     "name": "stderr",
     "output_type": "stream",
     "text": [
      "2:44: E231 missing whitespace after ','\n"
     ]
    }
   ],
   "source": [
    "# generating the cosine similarity matrix\n",
    "cosine_sim = cosine_similarity(tfidf_matrix,tfidf_matrix)"
   ]
  },
  {
   "cell_type": "code",
   "execution_count": 5,
   "metadata": {
    "colab": {},
    "colab_type": "code",
    "id": "BHVixm24B9zi"
   },
   "outputs": [
    {
     "data": {
      "text/plain": [
       "0    LEGO DC Super Hero Girls: Brain Drain\n",
       "1                The Truth Is in the Stars\n",
       "2                                 Firebase\n",
       "3                                   Zygote\n",
       "4                Chris D'Elia: Man on Fire\n",
       "Name: title, dtype: object"
      ]
     },
     "execution_count": 5,
     "metadata": {},
     "output_type": "execute_result"
    }
   ],
   "source": [
    "indices = pd.Series(movies_subset.title)\n",
    "indices[:5]"
   ]
  },
  {
   "cell_type": "code",
   "execution_count": 6,
   "metadata": {
    "colab": {},
    "colab_type": "code",
    "id": "jZGDo4BfB-hy"
   },
   "outputs": [
    {
     "name": "stderr",
     "output_type": "stream",
     "text": [
      "1:38: E251 unexpected spaces around keyword / parameter equals\n",
      "1:40: E251 unexpected spaces around keyword / parameter equals\n",
      "4:80: E501 line too long (129 > 79 characters)\n",
      "5:80: E501 line too long (87 > 79 characters)\n",
      "8:1: W293 blank line contains whitespace\n",
      "10:1: W293 blank line contains whitespace\n",
      "15:68: E251 unexpected spaces around keyword / parameter equals\n",
      "15:70: E251 unexpected spaces around keyword / parameter equals\n",
      "19:1: W293 blank line contains whitespace\n",
      "22:63: E231 missing whitespace after ','\n",
      "22:80: E501 line too long (240 > 79 characters)\n",
      "22:92: E231 missing whitespace after ','\n",
      "22:123: E231 missing whitespace after ','\n",
      "22:156: E231 missing whitespace after ','\n",
      "22:191: E231 missing whitespace after ','\n",
      "22:223: E231 missing whitespace after ','\n",
      "23:1: W293 blank line contains whitespace\n",
      "24:43: E231 missing whitespace after ','\n",
      "24:66: E231 missing whitespace after ','\n",
      "24:75: E231 missing whitespace after ','\n",
      "24:80: E501 line too long (142 > 79 characters)\n",
      "24:86: E231 missing whitespace after ','\n",
      "24:99: E231 missing whitespace after ','\n",
      "24:114: E231 missing whitespace after ','\n",
      "24:126: E231 missing whitespace after ','\n"
     ]
    }
   ],
   "source": [
    "def recommendations(title, cosine_sim = cosine_sim):\n",
    "\n",
    "    '''\n",
    "    Definition: Takes in the title of a movie that the user enters and the similarity matrix and gives out movie recommendations.\n",
    "    Parameters: title: User provided movie name, cosine_sim: Computed similarity matrix\n",
    "    Output: Dataframe of movie recommendations.\n",
    "    '''\n",
    "    \n",
    "    recommended_movies = []\n",
    "    \n",
    "    # gettin the index of the movie that matches the title\n",
    "    idx = indices[indices == title].index[0]\n",
    "\n",
    "    # creating a Series with the similarity scores in descending order\n",
    "    score_series = pd.Series(cosine_sim[idx]).sort_values(ascending = False)\n",
    "\n",
    "    # getting the indexes of the 10 most similar movies\n",
    "    top_10_indexes = list(score_series.iloc[0:11].index)\n",
    "    \n",
    "    # populating the list with the titles of the best 10 matching movies\n",
    "    for i in top_10_indexes:\n",
    "        recommended_movies.append([movies_subset.title.iloc[i],movies_subset.genres.iloc[i],movies_subset.keywords.iloc[i],movies_subset.popularity.iloc[i],movies_subset.average_vote.iloc[i],movies_subset.num_votes.iloc[i],score_series[i]])\n",
    "        \n",
    "    return pd.DataFrame(recommended_movies,columns=['movie_title','genres','keywords','popularity','average_vote','num_votes','cosine_score'])"
   ]
  },
  {
   "cell_type": "code",
   "execution_count": 7,
   "metadata": {},
   "outputs": [
    {
     "ename": "NameError",
     "evalue": "name 'tfidf_np_matrix' is not defined",
     "output_type": "error",
     "traceback": [
      "\u001b[1;31m---------------------------------------------------------------------------\u001b[0m",
      "\u001b[1;31mNameError\u001b[0m                                 Traceback (most recent call last)",
      "\u001b[1;32m<ipython-input-7-4a3c05ded05b>\u001b[0m in \u001b[0;36m<module>\u001b[1;34m\u001b[0m\n\u001b[1;32m----> 1\u001b[1;33m \u001b[1;32mdef\u001b[0m \u001b[0mrecommendations\u001b[0m\u001b[1;33m(\u001b[0m\u001b[0mtitles\u001b[0m\u001b[1;33m,\u001b[0m \u001b[0mtfidf_np_matrix\u001b[0m\u001b[1;33m=\u001b[0m\u001b[0mtfidf_np_matrix\u001b[0m\u001b[1;33m)\u001b[0m\u001b[1;33m:\u001b[0m\u001b[1;33m\u001b[0m\u001b[1;33m\u001b[0m\u001b[0m\n\u001b[0m\u001b[0;32m      2\u001b[0m     '''\n\u001b[0;32m      3\u001b[0m     \u001b[0mxxxxxxxxxxxxxxxxxxxxxxxxxxxxxxxxxxxxxxxxxxxxxxxxx\u001b[0m\u001b[1;33m\u001b[0m\u001b[1;33m\u001b[0m\u001b[0m\n\u001b[0;32m      4\u001b[0m     '''\n\u001b[0;32m      5\u001b[0m     \u001b[0midx\u001b[0m \u001b[1;33m=\u001b[0m \u001b[1;33m[\u001b[0m\u001b[1;33m]\u001b[0m\u001b[1;33m\u001b[0m\u001b[1;33m\u001b[0m\u001b[0m\n",
      "\u001b[1;31mNameError\u001b[0m: name 'tfidf_np_matrix' is not defined"
     ]
    }
   ],
   "source": [
    "def recommendations(titles, tfidf_np_matrix=tfidf_np_matrix):\n",
    "    '''\n",
    "    xxxxxxxxxxxxxxxxxxxxxxxxxxxxxxxxxxxxxxxxxxxxxxxxx\n",
    "    '''\n",
    "    idx = []\n",
    "    recommended_movies = []\n",
    "    for title in titles:\n",
    "        idx.append(indices[indices == title].index[0])\n",
    "        print(idx)\n",
    "    user_pref_vector = tfidf_np_matrix[idx].mean(axis=0)\n",
    "    print(user_pref_vector)\n",
    "    cosine_sim = cosine_similarity(tfidf_matrix,\n",
    "                                   np.atleast_2d(user_pref_vector))\n",
    "    df_cosine_sim = pd.DataFrame(cosine_sim,\n",
    "                                 columns=['sim_score'])\n",
    "    df_cosine_sim = df_cosine_sim.sort_values(by='sim_score',\n",
    "                                              ascending=False)\n",
    "    print(df_cosine_sim.head(20))\n",
    "    top_10_indexes = list(df_cosine_sim.iloc[0:(10+len(titles))].index)\n",
    "    print(top_10_indexes)\n",
    "    for n, i in enumerate(top_10_indexes):\n",
    "        if n < len(titles):\n",
    "            continue\n",
    "            recommended_movies.append([movies_subset.title.iloc[i],\n",
    "                                       movies_subset.genres.iloc[i],\n",
    "                                       movies_subset.keywords.iloc[i],\n",
    "                                       movies_subset.popularity.iloc[i],\n",
    "                                       movies_subset.average_vote.iloc[i],\n",
    "                                       movies_subset.num_votes.iloc[i],\n",
    "                                       df_cosine_sim.sim_score.iloc[n]])\n",
    "\n",
    "    return(pd.DataFrame(recommended_movies, columns=['movie_title',\n",
    "                                                     'genres',\n",
    "                                                     'keywords',\n",
    "                                                     'popularity',\n",
    "                                                     'average_vote',\n",
    "                                                     'num_votes',\n",
    "                                                     'cosine_score']))"
   ]
  }
 ],
 "metadata": {
  "colab": {
   "collapsed_sections": [],
   "name": "find_similar.ipynb",
   "provenance": []
  },
  "kernelspec": {
   "display_name": "ml_env",
   "language": "python",
   "name": "ml_env"
  },
  "language_info": {
   "codemirror_mode": {
    "name": "ipython",
    "version": 3
   },
   "file_extension": ".py",
   "mimetype": "text/x-python",
   "name": "python",
   "nbconvert_exporter": "python",
   "pygments_lexer": "ipython3",
   "version": "3.8.6"
  },
  "widgets": {
   "application/vnd.jupyter.widget-state+json": {
    "state": {},
    "version_major": 2,
    "version_minor": 0
   }
  }
 },
 "nbformat": 4,
 "nbformat_minor": 4
}
